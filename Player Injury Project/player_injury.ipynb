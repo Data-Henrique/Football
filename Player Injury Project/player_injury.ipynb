{
 "cells": [
  {
   "cell_type": "markdown",
   "metadata": {},
   "source": [
    "# Player Injury Analysis"
   ]
  },
  {
   "cell_type": "markdown",
   "metadata": {},
   "source": [
    "**Football clubs are increasingly focusing on injury prevention to preserve athletes' health and physical condition. Top-tier clubs can play several matches in a single week and results in a heavy workload for the players.**\n",
    "\n",
    "This project uses a dataset obtained from [Kaggle](https://www.kaggle.com/datasets/mrsimple07/injury-prediction-dataset/data) that contains important information surrounding injuries, such as player demographics, injury history and if a player is likely to get injured. \n"
   ]
  },
  {
   "cell_type": "code",
   "execution_count": 81,
   "metadata": {},
   "outputs": [],
   "source": [
    "import pandas as pd"
   ]
  },
  {
   "cell_type": "code",
   "execution_count": 82,
   "metadata": {},
   "outputs": [],
   "source": [
    "# Load the dataset from Kaggle\n",
    "df = pd.read_csv(\"injury_data.csv\")"
   ]
  },
  {
   "cell_type": "markdown",
   "metadata": {},
   "source": [
    "## 1. Exploring the Dataset"
   ]
  },
  {
   "cell_type": "code",
   "execution_count": 83,
   "metadata": {},
   "outputs": [
    {
     "data": {
      "text/html": [
       "<div>\n",
       "<style scoped>\n",
       "    .dataframe tbody tr th:only-of-type {\n",
       "        vertical-align: middle;\n",
       "    }\n",
       "\n",
       "    .dataframe tbody tr th {\n",
       "        vertical-align: top;\n",
       "    }\n",
       "\n",
       "    .dataframe thead th {\n",
       "        text-align: right;\n",
       "    }\n",
       "</style>\n",
       "<table border=\"1\" class=\"dataframe\">\n",
       "  <thead>\n",
       "    <tr style=\"text-align: right;\">\n",
       "      <th></th>\n",
       "      <th>Player_Age</th>\n",
       "      <th>Player_Weight</th>\n",
       "      <th>Player_Height</th>\n",
       "      <th>Previous_Injuries</th>\n",
       "      <th>Training_Intensity</th>\n",
       "      <th>Recovery_Time</th>\n",
       "      <th>Likelihood_of_Injury</th>\n",
       "    </tr>\n",
       "  </thead>\n",
       "  <tbody>\n",
       "    <tr>\n",
       "      <th>0</th>\n",
       "      <td>24</td>\n",
       "      <td>66.251933</td>\n",
       "      <td>175.732429</td>\n",
       "      <td>1</td>\n",
       "      <td>0.457929</td>\n",
       "      <td>5</td>\n",
       "      <td>0</td>\n",
       "    </tr>\n",
       "    <tr>\n",
       "      <th>1</th>\n",
       "      <td>37</td>\n",
       "      <td>70.996271</td>\n",
       "      <td>174.581650</td>\n",
       "      <td>0</td>\n",
       "      <td>0.226522</td>\n",
       "      <td>6</td>\n",
       "      <td>1</td>\n",
       "    </tr>\n",
       "    <tr>\n",
       "      <th>2</th>\n",
       "      <td>32</td>\n",
       "      <td>80.093781</td>\n",
       "      <td>186.329618</td>\n",
       "      <td>0</td>\n",
       "      <td>0.613970</td>\n",
       "      <td>2</td>\n",
       "      <td>1</td>\n",
       "    </tr>\n",
       "    <tr>\n",
       "      <th>3</th>\n",
       "      <td>28</td>\n",
       "      <td>87.473271</td>\n",
       "      <td>175.504240</td>\n",
       "      <td>1</td>\n",
       "      <td>0.252858</td>\n",
       "      <td>4</td>\n",
       "      <td>1</td>\n",
       "    </tr>\n",
       "    <tr>\n",
       "      <th>4</th>\n",
       "      <td>25</td>\n",
       "      <td>84.659220</td>\n",
       "      <td>190.175012</td>\n",
       "      <td>0</td>\n",
       "      <td>0.577632</td>\n",
       "      <td>1</td>\n",
       "      <td>1</td>\n",
       "    </tr>\n",
       "  </tbody>\n",
       "</table>\n",
       "</div>"
      ],
      "text/plain": [
       "   Player_Age  Player_Weight  Player_Height  Previous_Injuries  \\\n",
       "0          24      66.251933     175.732429                  1   \n",
       "1          37      70.996271     174.581650                  0   \n",
       "2          32      80.093781     186.329618                  0   \n",
       "3          28      87.473271     175.504240                  1   \n",
       "4          25      84.659220     190.175012                  0   \n",
       "\n",
       "   Training_Intensity  Recovery_Time  Likelihood_of_Injury  \n",
       "0            0.457929              5                     0  \n",
       "1            0.226522              6                     1  \n",
       "2            0.613970              2                     1  \n",
       "3            0.252858              4                     1  \n",
       "4            0.577632              1                     1  "
      ]
     },
     "execution_count": 83,
     "metadata": {},
     "output_type": "execute_result"
    }
   ],
   "source": [
    "df.head()"
   ]
  },
  {
   "cell_type": "code",
   "execution_count": 84,
   "metadata": {},
   "outputs": [
    {
     "data": {
      "text/plain": [
       "Index(['Player_Age', 'Player_Weight', 'Player_Height', 'Previous_Injuries',\n",
       "       'Training_Intensity', 'Recovery_Time', 'Likelihood_of_Injury'],\n",
       "      dtype='object')"
      ]
     },
     "execution_count": 84,
     "metadata": {},
     "output_type": "execute_result"
    }
   ],
   "source": [
    "df.columns"
   ]
  },
  {
   "cell_type": "code",
   "execution_count": 85,
   "metadata": {},
   "outputs": [
    {
     "name": "stdout",
     "output_type": "stream",
     "text": [
      "Our dataset contains 1000 observations and 7 features.\n"
     ]
    }
   ],
   "source": [
    "print(f\"Our dataset contains {df.shape[0]} observations and {df.shape[1]} features.\")"
   ]
  },
  {
   "cell_type": "code",
   "execution_count": 86,
   "metadata": {},
   "outputs": [
    {
     "name": "stdout",
     "output_type": "stream",
     "text": [
      "<class 'pandas.core.frame.DataFrame'>\n",
      "RangeIndex: 1000 entries, 0 to 999\n",
      "Data columns (total 7 columns):\n",
      " #   Column                Non-Null Count  Dtype  \n",
      "---  ------                --------------  -----  \n",
      " 0   Player_Age            1000 non-null   int64  \n",
      " 1   Player_Weight         1000 non-null   float64\n",
      " 2   Player_Height         1000 non-null   float64\n",
      " 3   Previous_Injuries     1000 non-null   int64  \n",
      " 4   Training_Intensity    1000 non-null   float64\n",
      " 5   Recovery_Time         1000 non-null   int64  \n",
      " 6   Likelihood_of_Injury  1000 non-null   int64  \n",
      "dtypes: float64(3), int64(4)\n",
      "memory usage: 54.8 KB\n"
     ]
    }
   ],
   "source": [
    "df.info()"
   ]
  },
  {
   "cell_type": "code",
   "execution_count": 87,
   "metadata": {},
   "outputs": [
    {
     "data": {
      "text/plain": [
       "Player_Age              0\n",
       "Player_Weight           0\n",
       "Player_Height           0\n",
       "Previous_Injuries       0\n",
       "Training_Intensity      0\n",
       "Recovery_Time           0\n",
       "Likelihood_of_Injury    0\n",
       "dtype: int64"
      ]
     },
     "execution_count": 87,
     "metadata": {},
     "output_type": "execute_result"
    }
   ],
   "source": [
    "df.isna().sum()"
   ]
  },
  {
   "cell_type": "code",
   "execution_count": 88,
   "metadata": {},
   "outputs": [
    {
     "data": {
      "text/html": [
       "<div>\n",
       "<style scoped>\n",
       "    .dataframe tbody tr th:only-of-type {\n",
       "        vertical-align: middle;\n",
       "    }\n",
       "\n",
       "    .dataframe tbody tr th {\n",
       "        vertical-align: top;\n",
       "    }\n",
       "\n",
       "    .dataframe thead th {\n",
       "        text-align: right;\n",
       "    }\n",
       "</style>\n",
       "<table border=\"1\" class=\"dataframe\">\n",
       "  <thead>\n",
       "    <tr style=\"text-align: right;\">\n",
       "      <th></th>\n",
       "      <th>Player_Age</th>\n",
       "      <th>Player_Weight</th>\n",
       "      <th>Player_Height</th>\n",
       "      <th>Previous_Injuries</th>\n",
       "      <th>Training_Intensity</th>\n",
       "      <th>Recovery_Time</th>\n",
       "      <th>Likelihood_of_Injury</th>\n",
       "    </tr>\n",
       "  </thead>\n",
       "  <tbody>\n",
       "    <tr>\n",
       "      <th>count</th>\n",
       "      <td>1000.000000</td>\n",
       "      <td>1000.000000</td>\n",
       "      <td>1000.000000</td>\n",
       "      <td>1000.000000</td>\n",
       "      <td>1000.000000</td>\n",
       "      <td>1000.000000</td>\n",
       "      <td>1000.00000</td>\n",
       "    </tr>\n",
       "    <tr>\n",
       "      <th>mean</th>\n",
       "      <td>28.231000</td>\n",
       "      <td>74.794351</td>\n",
       "      <td>179.750948</td>\n",
       "      <td>0.515000</td>\n",
       "      <td>0.490538</td>\n",
       "      <td>3.466000</td>\n",
       "      <td>0.50000</td>\n",
       "    </tr>\n",
       "    <tr>\n",
       "      <th>std</th>\n",
       "      <td>6.538378</td>\n",
       "      <td>9.892621</td>\n",
       "      <td>9.888921</td>\n",
       "      <td>0.500025</td>\n",
       "      <td>0.286184</td>\n",
       "      <td>1.701099</td>\n",
       "      <td>0.50025</td>\n",
       "    </tr>\n",
       "    <tr>\n",
       "      <th>min</th>\n",
       "      <td>18.000000</td>\n",
       "      <td>40.191912</td>\n",
       "      <td>145.285701</td>\n",
       "      <td>0.000000</td>\n",
       "      <td>0.000031</td>\n",
       "      <td>1.000000</td>\n",
       "      <td>0.00000</td>\n",
       "    </tr>\n",
       "    <tr>\n",
       "      <th>25%</th>\n",
       "      <td>22.000000</td>\n",
       "      <td>67.944028</td>\n",
       "      <td>173.036976</td>\n",
       "      <td>0.000000</td>\n",
       "      <td>0.241042</td>\n",
       "      <td>2.000000</td>\n",
       "      <td>0.00000</td>\n",
       "    </tr>\n",
       "    <tr>\n",
       "      <th>50%</th>\n",
       "      <td>28.000000</td>\n",
       "      <td>75.020569</td>\n",
       "      <td>180.034436</td>\n",
       "      <td>1.000000</td>\n",
       "      <td>0.483912</td>\n",
       "      <td>4.000000</td>\n",
       "      <td>0.50000</td>\n",
       "    </tr>\n",
       "    <tr>\n",
       "      <th>75%</th>\n",
       "      <td>34.000000</td>\n",
       "      <td>81.302956</td>\n",
       "      <td>186.557913</td>\n",
       "      <td>1.000000</td>\n",
       "      <td>0.730404</td>\n",
       "      <td>5.000000</td>\n",
       "      <td>1.00000</td>\n",
       "    </tr>\n",
       "    <tr>\n",
       "      <th>max</th>\n",
       "      <td>39.000000</td>\n",
       "      <td>104.650104</td>\n",
       "      <td>207.308672</td>\n",
       "      <td>1.000000</td>\n",
       "      <td>0.997749</td>\n",
       "      <td>6.000000</td>\n",
       "      <td>1.00000</td>\n",
       "    </tr>\n",
       "  </tbody>\n",
       "</table>\n",
       "</div>"
      ],
      "text/plain": [
       "        Player_Age  Player_Weight  Player_Height  Previous_Injuries  \\\n",
       "count  1000.000000    1000.000000    1000.000000        1000.000000   \n",
       "mean     28.231000      74.794351     179.750948           0.515000   \n",
       "std       6.538378       9.892621       9.888921           0.500025   \n",
       "min      18.000000      40.191912     145.285701           0.000000   \n",
       "25%      22.000000      67.944028     173.036976           0.000000   \n",
       "50%      28.000000      75.020569     180.034436           1.000000   \n",
       "75%      34.000000      81.302956     186.557913           1.000000   \n",
       "max      39.000000     104.650104     207.308672           1.000000   \n",
       "\n",
       "       Training_Intensity  Recovery_Time  Likelihood_of_Injury  \n",
       "count         1000.000000    1000.000000            1000.00000  \n",
       "mean             0.490538       3.466000               0.50000  \n",
       "std              0.286184       1.701099               0.50025  \n",
       "min              0.000031       1.000000               0.00000  \n",
       "25%              0.241042       2.000000               0.00000  \n",
       "50%              0.483912       4.000000               0.50000  \n",
       "75%              0.730404       5.000000               1.00000  \n",
       "max              0.997749       6.000000               1.00000  "
      ]
     },
     "execution_count": 88,
     "metadata": {},
     "output_type": "execute_result"
    }
   ],
   "source": [
    "df.describe()"
   ]
  },
  {
   "cell_type": "markdown",
   "metadata": {},
   "source": [
    "The dataset is already pretty clean so I'll move on to creating additional features."
   ]
  },
  {
   "cell_type": "markdown",
   "metadata": {},
   "source": [
    "## 2. Feature Engineering"
   ]
  },
  {
   "cell_type": "code",
   "execution_count": 89,
   "metadata": {},
   "outputs": [],
   "source": [
    "# Let's start by rounding the variables with decimal numbers just to make reading their values easier\n",
    "df['Player_Height'] = df['Player_Height'].round(2)\n",
    "df['Player_Weight'] = df['Player_Weight'].round(2)\n",
    "df['Training_Intensity'] = df['Training_Intensity'].round(2)"
   ]
  },
  {
   "cell_type": "code",
   "execution_count": 90,
   "metadata": {},
   "outputs": [
    {
     "data": {
      "text/html": [
       "<div>\n",
       "<style scoped>\n",
       "    .dataframe tbody tr th:only-of-type {\n",
       "        vertical-align: middle;\n",
       "    }\n",
       "\n",
       "    .dataframe tbody tr th {\n",
       "        vertical-align: top;\n",
       "    }\n",
       "\n",
       "    .dataframe thead th {\n",
       "        text-align: right;\n",
       "    }\n",
       "</style>\n",
       "<table border=\"1\" class=\"dataframe\">\n",
       "  <thead>\n",
       "    <tr style=\"text-align: right;\">\n",
       "      <th></th>\n",
       "      <th>Player_Age</th>\n",
       "      <th>Player_Weight</th>\n",
       "      <th>Player_Height</th>\n",
       "      <th>Previous_Injuries</th>\n",
       "      <th>Training_Intensity</th>\n",
       "      <th>Recovery_Time</th>\n",
       "      <th>Likelihood_of_Injury</th>\n",
       "    </tr>\n",
       "  </thead>\n",
       "  <tbody>\n",
       "    <tr>\n",
       "      <th>0</th>\n",
       "      <td>24</td>\n",
       "      <td>66.25</td>\n",
       "      <td>175.73</td>\n",
       "      <td>1</td>\n",
       "      <td>0.46</td>\n",
       "      <td>5</td>\n",
       "      <td>0</td>\n",
       "    </tr>\n",
       "    <tr>\n",
       "      <th>1</th>\n",
       "      <td>37</td>\n",
       "      <td>71.00</td>\n",
       "      <td>174.58</td>\n",
       "      <td>0</td>\n",
       "      <td>0.23</td>\n",
       "      <td>6</td>\n",
       "      <td>1</td>\n",
       "    </tr>\n",
       "    <tr>\n",
       "      <th>2</th>\n",
       "      <td>32</td>\n",
       "      <td>80.09</td>\n",
       "      <td>186.33</td>\n",
       "      <td>0</td>\n",
       "      <td>0.61</td>\n",
       "      <td>2</td>\n",
       "      <td>1</td>\n",
       "    </tr>\n",
       "    <tr>\n",
       "      <th>3</th>\n",
       "      <td>28</td>\n",
       "      <td>87.47</td>\n",
       "      <td>175.50</td>\n",
       "      <td>1</td>\n",
       "      <td>0.25</td>\n",
       "      <td>4</td>\n",
       "      <td>1</td>\n",
       "    </tr>\n",
       "    <tr>\n",
       "      <th>4</th>\n",
       "      <td>25</td>\n",
       "      <td>84.66</td>\n",
       "      <td>190.18</td>\n",
       "      <td>0</td>\n",
       "      <td>0.58</td>\n",
       "      <td>1</td>\n",
       "      <td>1</td>\n",
       "    </tr>\n",
       "  </tbody>\n",
       "</table>\n",
       "</div>"
      ],
      "text/plain": [
       "   Player_Age  Player_Weight  Player_Height  Previous_Injuries  \\\n",
       "0          24          66.25         175.73                  1   \n",
       "1          37          71.00         174.58                  0   \n",
       "2          32          80.09         186.33                  0   \n",
       "3          28          87.47         175.50                  1   \n",
       "4          25          84.66         190.18                  0   \n",
       "\n",
       "   Training_Intensity  Recovery_Time  Likelihood_of_Injury  \n",
       "0                0.46              5                     0  \n",
       "1                0.23              6                     1  \n",
       "2                0.61              2                     1  \n",
       "3                0.25              4                     1  \n",
       "4                0.58              1                     1  "
      ]
     },
     "execution_count": 90,
     "metadata": {},
     "output_type": "execute_result"
    }
   ],
   "source": [
    "df.head()"
   ]
  },
  {
   "cell_type": "markdown",
   "metadata": {},
   "source": [
    "### 2.1. Body Mass Index"
   ]
  },
  {
   "cell_type": "markdown",
   "metadata": {},
   "source": [
    "We can use a Player's Weight and Height to calculate its Body Mass Index (BMI) and have a grasp on his body aptitude level. In an ideal world, we would have more information like muscle mass and bone density to help paint a more complete picture.\n",
    "\n",
    "Using BMI, I'll also classificate if a player is underweight, normal, or overweight."
   ]
  },
  {
   "cell_type": "code",
   "execution_count": 91,
   "metadata": {},
   "outputs": [],
   "source": [
    "# Calculating BMI (it uses height in meters)\n",
    "df['BMI'] = df['Player_Weight'] / (df['Player_Height'] / 100) ** 2\n",
    "\n",
    "## Classifing a player according to its BMI\n",
    "gaps = [-float('inf'), 18.5, 24.9, 29.9, float('inf')]\n",
    "categories = ['Underweight', 'Normal', 'Overweight', 'Obesity']\n",
    "\n",
    "df['BMI_Classification'] = pd.cut(df['BMI'], bins=gaps, labels=categories, right=False)"
   ]
  },
  {
   "cell_type": "markdown",
   "metadata": {},
   "source": [
    "### 2.2. Age Group\n",
    "\n",
    "Looking at a player's age group instead of an absolute value can also be valuable."
   ]
  },
  {
   "cell_type": "code",
   "execution_count": 92,
   "metadata": {},
   "outputs": [
    {
     "data": {
      "text/html": [
       "<div>\n",
       "<style scoped>\n",
       "    .dataframe tbody tr th:only-of-type {\n",
       "        vertical-align: middle;\n",
       "    }\n",
       "\n",
       "    .dataframe tbody tr th {\n",
       "        vertical-align: top;\n",
       "    }\n",
       "\n",
       "    .dataframe thead th {\n",
       "        text-align: right;\n",
       "    }\n",
       "</style>\n",
       "<table border=\"1\" class=\"dataframe\">\n",
       "  <thead>\n",
       "    <tr style=\"text-align: right;\">\n",
       "      <th></th>\n",
       "      <th>Player_Age</th>\n",
       "      <th>Player_Weight</th>\n",
       "      <th>Player_Height</th>\n",
       "      <th>Previous_Injuries</th>\n",
       "      <th>Training_Intensity</th>\n",
       "      <th>Recovery_Time</th>\n",
       "      <th>Likelihood_of_Injury</th>\n",
       "      <th>BMI</th>\n",
       "      <th>BMI_Classification</th>\n",
       "      <th>Age_Group</th>\n",
       "    </tr>\n",
       "  </thead>\n",
       "  <tbody>\n",
       "    <tr>\n",
       "      <th>0</th>\n",
       "      <td>24</td>\n",
       "      <td>66.25</td>\n",
       "      <td>175.73</td>\n",
       "      <td>1</td>\n",
       "      <td>0.46</td>\n",
       "      <td>5</td>\n",
       "      <td>0</td>\n",
       "      <td>21.453298</td>\n",
       "      <td>Normal</td>\n",
       "      <td>22-25</td>\n",
       "    </tr>\n",
       "    <tr>\n",
       "      <th>1</th>\n",
       "      <td>37</td>\n",
       "      <td>71.00</td>\n",
       "      <td>174.58</td>\n",
       "      <td>0</td>\n",
       "      <td>0.23</td>\n",
       "      <td>6</td>\n",
       "      <td>1</td>\n",
       "      <td>23.295357</td>\n",
       "      <td>Normal</td>\n",
       "      <td>34+</td>\n",
       "    </tr>\n",
       "    <tr>\n",
       "      <th>2</th>\n",
       "      <td>32</td>\n",
       "      <td>80.09</td>\n",
       "      <td>186.33</td>\n",
       "      <td>0</td>\n",
       "      <td>0.61</td>\n",
       "      <td>2</td>\n",
       "      <td>1</td>\n",
       "      <td>23.068148</td>\n",
       "      <td>Normal</td>\n",
       "      <td>30-33</td>\n",
       "    </tr>\n",
       "    <tr>\n",
       "      <th>3</th>\n",
       "      <td>28</td>\n",
       "      <td>87.47</td>\n",
       "      <td>175.50</td>\n",
       "      <td>1</td>\n",
       "      <td>0.25</td>\n",
       "      <td>4</td>\n",
       "      <td>1</td>\n",
       "      <td>28.399120</td>\n",
       "      <td>Overweight</td>\n",
       "      <td>26-29</td>\n",
       "    </tr>\n",
       "    <tr>\n",
       "      <th>4</th>\n",
       "      <td>25</td>\n",
       "      <td>84.66</td>\n",
       "      <td>190.18</td>\n",
       "      <td>0</td>\n",
       "      <td>0.58</td>\n",
       "      <td>1</td>\n",
       "      <td>1</td>\n",
       "      <td>23.407152</td>\n",
       "      <td>Normal</td>\n",
       "      <td>22-25</td>\n",
       "    </tr>\n",
       "  </tbody>\n",
       "</table>\n",
       "</div>"
      ],
      "text/plain": [
       "   Player_Age  Player_Weight  Player_Height  Previous_Injuries  \\\n",
       "0          24          66.25         175.73                  1   \n",
       "1          37          71.00         174.58                  0   \n",
       "2          32          80.09         186.33                  0   \n",
       "3          28          87.47         175.50                  1   \n",
       "4          25          84.66         190.18                  0   \n",
       "\n",
       "   Training_Intensity  Recovery_Time  Likelihood_of_Injury        BMI  \\\n",
       "0                0.46              5                     0  21.453298   \n",
       "1                0.23              6                     1  23.295357   \n",
       "2                0.61              2                     1  23.068148   \n",
       "3                0.25              4                     1  28.399120   \n",
       "4                0.58              1                     1  23.407152   \n",
       "\n",
       "  BMI_Classification Age_Group  \n",
       "0             Normal     22-25  \n",
       "1             Normal       34+  \n",
       "2             Normal     30-33  \n",
       "3         Overweight     26-29  \n",
       "4             Normal     22-25  "
      ]
     },
     "execution_count": 92,
     "metadata": {},
     "output_type": "execute_result"
    }
   ],
   "source": [
    "# Min and Max player's age\n",
    "min_age = df['Player_Age'].min()\n",
    "max_age = df['Player_Age'].max()\n",
    "\n",
    "# 5 age groups\n",
    "df[\"Age_Group\"] = pd.cut(\n",
    "    df[\"Player_Age\"],\n",
    "    bins=[min_age, 21, 25, 29, 33, max_age],\n",
    "    labels=[\"18-21\", \"22-25\", \"26-29\", \"30-33\", \"34+\"],\n",
    "    include_lowest=True,\n",
    ")\n",
    "\n",
    "df.head()"
   ]
  },
  {
   "cell_type": "markdown",
   "metadata": {},
   "source": [
    "## 3. Exploratory Data Analysis\n",
    "\n",
    "Let's look at the likelihood of a player getting injured across age groups, bmi classification and training intensity."
   ]
  },
  {
   "cell_type": "markdown",
   "metadata": {},
   "source": [
    "### 3.1. Age Group"
   ]
  },
  {
   "cell_type": "code",
   "execution_count": 93,
   "metadata": {},
   "outputs": [
    {
     "data": {
      "image/png": "[encoded data removed]",
      "text/plain": [
       "<Figure size 1000x600 with 1 Axes>"
      ]
     },
     "metadata": {},
     "output_type": "display_data"
    }
   ],
   "source": [
    "import matplotlib.pyplot as plt\n",
    "import seaborn as sns\n",
    "\n",
    "# Set the style\n",
    "plt.style.use('default')\n",
    "sns.set_style(\"whitegrid\")\n",
    "\n",
    "# Calculate the percentage of injury prone players by age group\n",
    "injury_by_age = df.groupby('Age_Group', observed=True)['Likelihood_of_Injury'].mean() * 100\n",
    "\n",
    "# Create a figure\n",
    "plt.figure(figsize=(10, 6))\n",
    "\n",
    "# Choose a specific color pallete\n",
    "colors = sns.color_palette(\"YlOrRd\", len(injury_by_age))\n",
    "\n",
    "# Create the bar plot\n",
    "ax = sns.barplot(\n",
    "    x=injury_by_age.index, \n",
    "    y=injury_by_age.values, \n",
    "    hue=injury_by_age.index,  \n",
    "    palette=\"YlOrRd\",\n",
    "    legend=False  \n",
    ")\n",
    "\n",
    "# Add percentage labels on top of each bar\n",
    "for i, v in enumerate(injury_by_age.values):\n",
    "    ax.text(i, v + 1, f'{v:.1f}%', ha='center', fontweight='bold')\n",
    "\n",
    "# Set titles and labels\n",
    "plt.title('Likelihood of Injury by Age Group', fontsize=16)\n",
    "plt.xlabel('Age Group', fontsize=12)\n",
    "plt.ylabel('Injury prone players (%)', fontsize=12)\n",
    "plt.ylim(0, 100)\n",
    "\n",
    "plt.tight_layout()\n",
    "\n",
    "# Show the plot\n",
    "plt.show()"
   ]
  },
  {
   "cell_type": "markdown",
   "metadata": {},
   "source": [
    "We can see that older players are more prone to getting injured, with the surprising exception of players that are 34 or more years old. "
   ]
  },
  {
   "cell_type": "markdown",
   "metadata": {},
   "source": [
    "### 3.2. BMI group"
   ]
  },
  {
   "cell_type": "code",
   "execution_count": 94,
   "metadata": {},
   "outputs": [
    {
     "data": {
      "image/png": "[encoded data removed]",
      "text/plain": [
       "<Figure size 1200x600 with 1 Axes>"
      ]
     },
     "metadata": {},
     "output_type": "display_data"
    }
   ],
   "source": [
    "# First, we calculate the percentage of number of player likely to get injured by BMI classification\n",
    "injury_by_bmi = df.groupby('BMI_Classification', observed=True)['Likelihood_of_Injury'].mean() * 100\n",
    "\n",
    "plt.figure(figsize=(12, 6))\n",
    "\n",
    "# Create the bar plot\n",
    "ax = sns.barplot(x=injury_by_bmi.index, \n",
    "    y=injury_by_bmi.values,\n",
    "    hue=injury_by_bmi.index, \n",
    "    palette=\"YlGnBu\"  \n",
    ")\n",
    "\n",
    "# Add percentage labels on top of each bar\n",
    "for i, v in enumerate(injury_by_bmi.values):\n",
    "    ax.text(i, v + 1, f'{v:.1f}%', ha='center', fontweight='bold')\n",
    "\n",
    "# Set titles and labels\n",
    "plt.title('Likelihood of Injury by BMI Classification', fontsize=16)\n",
    "plt.xlabel('BMI Classification', fontsize=12)\n",
    "plt.ylabel('Injury-prone players (%)', fontsize=12)\n",
    "plt.ylim(0, 100)  # Set y-axis to percentage scale\n",
    "\n",
    "plt.xticks(rotation=45, ha='right')\n",
    "plt.tight_layout()\n",
    "\n",
    "plt.show()\n"
   ]
  },
  {
   "cell_type": "markdown",
   "metadata": {},
   "source": [
    "Surprisingly, we don't find a clear correlation between a higher BMI (group) and the likelihood of getting injuried. Actually, a low percentage of obese players are likely to get injured. There must be some hidden reasons for this suc has, if a player is obese, he is less likely to play and have an heavy workload."
   ]
  },
  {
   "cell_type": "markdown",
   "metadata": {},
   "source": [
    "### 3.3. Training Intensity"
   ]
  },
  {
   "cell_type": "code",
   "execution_count": 95,
   "metadata": {},
   "outputs": [
    {
     "data": {
      "image/png": "[encoded data removed]",
      "text/plain": [
       "<Figure size 800x500 with 1 Axes>"
      ]
     },
     "metadata": {},
     "output_type": "display_data"
    }
   ],
   "source": [
    "# Create the density plot\n",
    "plt.figure(figsize=(8, 5))\n",
    "sns.kdeplot(df[df[\"Likelihood_of_Injury\"] == False][\"Training_Intensity\"], fill=True, color=\"blue\", alpha=0.5, label=\"No Injury\")\n",
    "sns.kdeplot(df[df[\"Likelihood_of_Injury\"] == True][\"Training_Intensity\"], fill=True, color=\"red\", alpha=0.5, label=\"Injury\")\n",
    "plt.xlabel(\"Training Intensity\")\n",
    "plt.ylabel(\"Density\")\n",
    "plt.title(\"Density Plot of Training Intensity by Likelihood of Injury\")\n",
    "plt.legend()\n",
    "plt.grid(True)\n",
    "plt.show()"
   ]
  },
  {
   "cell_type": "markdown",
   "metadata": {},
   "source": [
    "This density plot regarding training intensity seems to show a correlation between higher intensity and higher likelihood of injury, which was expected."
   ]
  },
  {
   "cell_type": "markdown",
   "metadata": {},
   "source": [
    "# 4. Data Modelling"
   ]
  },
  {
   "cell_type": "markdown",
   "metadata": {},
   "source": [
    "Before creating a model to predict if a player is likely to get injured or not, we have to encode the categorical features that we created previously."
   ]
  },
  {
   "cell_type": "code",
   "execution_count": 96,
   "metadata": {},
   "outputs": [],
   "source": [
    "from sklearn.preprocessing import OneHotEncoder\n",
    "\n",
    "# Categorical columns\n",
    "categ_cols = [\"BMI_Classification\",\"Age_Group\"]\n",
    "\n",
    "# Select those same categories\n",
    "df_categorical = df[categ_cols]\n",
    "\n",
    "# Encode them\n",
    "encoder = OneHotEncoder()\n",
    "encoded_data = encoder.fit_transform(df_categorical)\n",
    "\n",
    "# Get their names and create a dataframe with these features\n",
    "one_hot_feature_names = encoder.get_feature_names_out(categ_cols)\n",
    "df_encoded = pd.DataFrame(encoded_data.toarray(), columns=one_hot_feature_names)\n",
    "\n",
    "# Join the two dataframes to create the final one and drop the old features\n",
    "df_final = pd.concat([df, df_encoded], axis=1)\n",
    "df_final.drop(columns=['BMI_Classification', 'Age_Group'], inplace=True)"
   ]
  },
  {
   "cell_type": "markdown",
   "metadata": {},
   "source": [
    "Now let's split the data between features and target variable and also between training and testing data. Since the dataset is extremely small, I'll do a 90:10 train:test split."
   ]
  },
  {
   "cell_type": "code",
   "execution_count": 97,
   "metadata": {},
   "outputs": [],
   "source": [
    "from sklearn.model_selection import train_test_split\n",
    "\n",
    "X = df_final.drop('Likelihood_of_Injury', axis=1)\n",
    "y = df_final['Likelihood_of_Injury']\n",
    "\n",
    "X_train, X_test, y_train, y_test = train_test_split(X, y, test_size=0.1, random_state=42)"
   ]
  },
  {
   "cell_type": "markdown",
   "metadata": {},
   "source": [
    "We'll train 4 models and compare its results:\n",
    "- Logistic Regression\n",
    "- Random Forest\n",
    "- XGBoost\n",
    "- LightGBM\n",
    "\n",
    "For Logistic Regression, we'll create a scaled (standardized) version of the dataset. This model is sensitive to features magnitudes so scaling ensures that all features contribute equally to the model."
   ]
  },
  {
   "cell_type": "code",
   "execution_count": 98,
   "metadata": {},
   "outputs": [
    {
     "name": "stdout",
     "output_type": "stream",
     "text": [
      "[LightGBM] [Info] Number of positive: 441, number of negative: 459\n",
      "[LightGBM] [Info] Auto-choosing col-wise multi-threading, the overhead of testing was 0.000096 seconds.\n",
      "You can set `force_col_wise=true` to remove the overhead.\n",
      "[LightGBM] [Info] Total Bins 916\n",
      "[LightGBM] [Info] Number of data points in the train set: 900, number of used features: 16\n",
      "[LightGBM] [Info] [binary:BoostFromScore]: pavg=0.490000 -> initscore=-0.040005\n",
      "[LightGBM] [Info] Start training from score -0.040005\n"
     ]
    }
   ],
   "source": [
    "from sklearn.preprocessing import StandardScaler\n",
    "from sklearn.metrics import accuracy_score, classification_report\n",
    "from sklearn.linear_model import LogisticRegression\n",
    "from sklearn.ensemble import RandomForestClassifier\n",
    "import xgboost as xgb\n",
    "import lightgbm as lgb\n",
    "\n",
    "# Standardize features (for Logistic Regression)\n",
    "scaler = StandardScaler()\n",
    "X_train_scaled = scaler.fit_transform(X_train)\n",
    "X_test_scaled = scaler.transform(X_test)\n",
    "\n",
    "# Logistic Regression\n",
    "log_model = LogisticRegression()\n",
    "log_model.fit(X_train_scaled, y_train)\n",
    "log_preds = log_model.predict(X_test_scaled)\n",
    "\n",
    "# Random Forest\n",
    "rf_model = RandomForestClassifier(n_estimators=100, random_state=42)\n",
    "rf_model.fit(X_train, y_train)\n",
    "rf_preds = rf_model.predict(X_test)\n",
    "\n",
    "# XGBoost\n",
    "xgb_model = xgb.XGBClassifier(use_label_encoder=False, eval_metric=\"logloss\", random_state=42)\n",
    "xgb_model.fit(X_train, y_train)\n",
    "xgb_preds = xgb_model.predict(X_test)\n",
    "\n",
    "# LightGBM\n",
    "lgb_model = lgb.LGBMClassifier(random_state=42)\n",
    "lgb_model.fit(X_train, y_train)\n",
    "lgb_preds = lgb_model.predict(X_test)"
   ]
  },
  {
   "cell_type": "code",
   "execution_count": 99,
   "metadata": {},
   "outputs": [
    {
     "name": "stdout",
     "output_type": "stream",
     "text": [
      "Logistic Regression Accuracy: 0.56\n",
      "Random Forest Accuracy: 0.6\n",
      "XGBoost Accuracy: 0.54\n",
      "LightGBM Accuracy: 0.57\n"
     ]
    }
   ],
   "source": [
    "# Evaluate models\n",
    "print(\"Logistic Regression Accuracy:\", accuracy_score(y_test, log_preds))\n",
    "print(\"Random Forest Accuracy:\", accuracy_score(y_test, rf_preds))\n",
    "print(\"XGBoost Accuracy:\", accuracy_score(y_test, xgb_preds))\n",
    "print(\"LightGBM Accuracy:\", accuracy_score(y_test, lgb_preds))"
   ]
  },
  {
   "cell_type": "code",
   "execution_count": 100,
   "metadata": {},
   "outputs": [
    {
     "name": "stdout",
     "output_type": "stream",
     "text": [
      "\n",
      "--- Recall Score Comparison ---\n",
      "Logistic Regression Recall: 0.44\n",
      "Random Forest Recall: 0.59\n",
      "XGBoost Recall: 0.46\n",
      "LightGBM Recall: 0.49\n"
     ]
    }
   ],
   "source": [
    "from sklearn.metrics import recall_score\n",
    "\n",
    "# Calculate recall scores\n",
    "log_recall = recall_score(y_test, log_preds)\n",
    "rf_recall = recall_score(y_test, rf_preds)\n",
    "xgb_recall = recall_score(y_test, xgb_preds)\n",
    "lgb_recall = recall_score(y_test, lgb_preds)\n",
    "\n",
    "# Print recall scores\n",
    "print(\"\\n--- Recall Score Comparison ---\")\n",
    "print(f\"Logistic Regression Recall: {log_recall:.2f}\")\n",
    "print(f\"Random Forest Recall: {rf_recall:.2f}\")\n",
    "print(f\"XGBoost Recall: {xgb_recall:.2f}\")\n",
    "print(f\"LightGBM Recall: {lgb_recall:.2f}\")"
   ]
  },
  {
   "cell_type": "markdown",
   "metadata": {},
   "source": [
    "The Random Forest model achieved the best accuracy, but performed especially well on the recall score when compared to the alternatives.\n",
    "\n",
    "The recall score measures how well a model identifies actual positive cases (injuried players). **Why is this important?**\n",
    "- In this context, False Negatives are dangerous and choosing a model that minimises this ensures that injured players are not overlooked."
   ]
  },
  {
   "cell_type": "markdown",
   "metadata": {},
   "source": [
    "## Final Remarks\n",
    "\n",
    "This project looked to explore the importance of injury prevention in football and how data can be used to improve players physical wellbeing.\n",
    "\n",
    "The dataset obtained from Kaggle was rather limited, but was usefull enough to exemplify the process around using data to prevent injuries.\n",
    "\n",
    "Next steps would include:\n",
    "- Obtaining a more complete dataset that has information about specific individual players\n",
    "- Explore giving recommendations regarding recommended match time and injury propensity"
   ]
  }
 ],
 "metadata": {
  "kernelspec": {
   "display_name": "hc_env_v310",
   "language": "python",
   "name": "python3"
  },
  "language_info": {
   "codemirror_mode": {
    "name": "ipython",
    "version": 3
   },
   "file_extension": ".py",
   "mimetype": "text/x-python",
   "name": "python",
   "nbconvert_exporter": "python",
   "pygments_lexer": "ipython3",
   "version": "3.10.14"
  }
 },
 "nbformat": 4,
 "nbformat_minor": 2
}
